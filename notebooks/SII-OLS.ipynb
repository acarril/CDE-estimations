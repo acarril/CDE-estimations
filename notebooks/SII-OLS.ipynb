{
 "cells": [
  {
   "cell_type": "code",
   "execution_count": 1,
   "metadata": {},
   "outputs": [],
   "source": [
    "#%% Preamble\n",
    "\n",
    "# Modules:\n",
    "import math\n",
    "import os\n",
    "import warnings\n",
    "\n",
    "import matplotlib\n",
    "import matplotlib.pyplot as plt\n",
    "import numpy as np\n",
    "import pandas as pd\n",
    "import scipy as sp\n",
    "import scipy.stats as st\n",
    "import seaborn as sns\n",
    "import statsmodels.formula.api as sm\n",
    "from IPython.display import HTML\n",
    "from matplotlib import cbook, colors\n",
    "from matplotlib.colors import Normalize\n",
    "\n",
    "warnings.filterwarnings(\"ignore\", category=matplotlib.cbook.mplDeprecation)\n",
    "\n",
    "\n",
    "# Class: Normalize cmap\n",
    "class MidpointNormalize(colors.Normalize):\n",
    "    def __init__(self, vmin=None, vmax=None, midpoint=None, clip=False):\n",
    "        self.midpoint = midpoint\n",
    "        colors.Normalize.__init__(self, vmin, vmax, clip)\n",
    "\n",
    "    def __call__(self, value, clip=None):\n",
    "        # I'm ignoring masked values and all kinds of edge cases to make a\n",
    "        # simple example...\n",
    "        x, y = [self.vmin, self.midpoint, self.vmax], [0, 0.5, 1]\n",
    "        return np.ma.masked_array(np.interp(value, x, y))\n",
    "\n",
    "# Function: reshape unstacked dataset of results\n",
    "def ReshapeUnstacked(df):\n",
    "    # Transpose and reshape:\n",
    "    df = df.T\n",
    "    df.reset_index(inplace=True)\n",
    "    df.rename(columns={'index': 'varname', '0': 'value'}, inplace=True)\n",
    "    df['index'] = df['varname'].str.startswith('_se')\n",
    "    df['index'] = df['index'].replace({True: 'se', False: 'beta'})\n",
    "    df['varname'] = df['varname'].replace({'e(N)': 'e[N]'})\n",
    "    df['coef'] = df['varname'].str.extract(r'((?<=\\[).*(?=\\]))', expand=True)\n",
    "    df = df.pivot(index='coef', columns='index', values='value')\n",
    "    df.reset_index(inplace=True)\n",
    "    # Remove N of obs. from rows:\n",
    "    N = df.at[df.loc[df['coef']=='N'].index[0], 'beta']\n",
    "    df.drop(df[df.coef=='N'].index, inplace=True)\n",
    "    df.reset_index(drop=True, inplace=True)\n",
    "    return df\n",
    "\n",
    "# Important variables:\n",
    "zscore = st.norm.ppf(.975) # Note that 1.96 is the zscore inside of which is 95% of the data (ignoring both tails), but st.norm.ppf() gives the zscore which has 95% of the data below it (ignoring only the upper tail).\n",
    "estsdir = '../estimations'\n",
    "inputsdir = '../inputs'\n",
    "Area_labels = [\"Business and Administration\",\n",
    "               \"Agriculture\",\n",
    "               \"Architecture and Art\",\n",
    "               \"Natural Sciences\",\n",
    "               \"Social Sciences\",\n",
    "               \"Law\",\n",
    "               \"Education\",\n",
    "               \"Humanities\",\n",
    "               \"Health\",\n",
    "               \"Technology\"]"
   ]
  },
  {
   "cell_type": "code",
   "execution_count": 2,
   "metadata": {},
   "outputs": [
    {
     "data": {
      "text/html": [
       "<script>\n",
       "code_show=true; \n",
       "function code_toggle() {\n",
       " if (code_show){\n",
       " $('div.input').hide();\n",
       " } else {\n",
       " $('div.input').show();\n",
       " }\n",
       " code_show = !code_show\n",
       "} \n",
       "$( document ).ready(code_toggle);\n",
       "</script>\n",
       "The raw code for this IPython notebook is by default hidden for easier reading.\n",
       "To toggle on/off the raw code, click <a href=\"javascript:code_toggle()\">here</a>."
      ],
      "text/plain": [
       "<IPython.core.display.HTML object>"
      ]
     },
     "execution_count": 2,
     "metadata": {},
     "output_type": "execute_result"
    }
   ],
   "source": [
    "HTML('''<script>\n",
    "code_show=true; \n",
    "function code_toggle() {\n",
    " if (code_show){\n",
    " $('div.input').hide();\n",
    " } else {\n",
    " $('div.input').show();\n",
    " }\n",
    " code_show = !code_show\n",
    "} \n",
    "$( document ).ready(code_toggle);\n",
    "</script>\n",
    "The raw code for this IPython notebook is by default hidden for easier reading.\n",
    "To toggle on/off the raw code, click <a href=\"javascript:code_toggle()\">here</a>.''')"
   ]
  },
  {
   "cell_type": "markdown",
   "metadata": {},
   "source": [
    "Something."
   ]
  }
 ],
 "metadata": {
  "kernelspec": {
   "display_name": "Python 3",
   "language": "python",
   "name": "python3"
  },
  "language_info": {
   "codemirror_mode": {
    "name": "ipython",
    "version": 3
   },
   "file_extension": ".py",
   "mimetype": "text/x-python",
   "name": "python",
   "nbconvert_exporter": "python",
   "pygments_lexer": "ipython3",
   "version": "3.6.4"
  }
 },
 "nbformat": 4,
 "nbformat_minor": 2
}
